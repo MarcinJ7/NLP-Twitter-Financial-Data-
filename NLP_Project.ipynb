{
 "cells": [
  {
   "cell_type": "code",
   "execution_count": 1,
   "id": "84e717b6",
   "metadata": {},
   "outputs": [],
   "source": [
    "# Analizowany dataset:\n",
    "# https://www.kaggle.com/datasets/sulphatet/twitter-financial-news"
   ]
  },
  {
   "cell_type": "markdown",
   "id": "4b4379c7",
   "metadata": {},
   "source": [
    "### Etykiety:\n",
    "\n",
    "\"LABEL_0\": \"Analyst Update\",\n",
    "\n",
    "\"LABEL_1\": \"Fed | Central Banks\",\n",
    "\n",
    "\"LABEL_2\": \"Company | Product News\",\n",
    "\n",
    "\"LABEL_3\": \"Treasuries | Corporate Debt\",\n",
    "\n",
    "\"LABEL_4\": \"Dividend\",\n",
    "\n",
    "\"LABEL_5\": \"Earnings\",\n",
    "\n",
    "\"LABEL_6\": \"Energy | Oil\",\n",
    "\n",
    "\"LABEL_7\": \"Financials\",\n",
    "\n",
    "\"LABEL_8\": \"Currencies\",\n",
    "\n",
    "\"LABEL_9\": \"General News | Opinion\",\n",
    "\n",
    "\"LABEL_10\": \"Gold | Metals | Materials\",\n",
    "\n",
    "\"LABEL_11\": \"IPO\",\n",
    "\n",
    "\"LABEL_12\": \"Legal | Regulation\",\n",
    "\n",
    "\"LABEL_13\": \"M&A | Investments\",\n",
    "\n",
    "\"LABEL_14\": \"Macro\",\n",
    "\n",
    "\"LABEL_15\": \"Markets\",\n",
    "\n",
    "\"LABEL_16\": \"Politics\",\n",
    "\n",
    "\"LABEL_17\": \"Personnel Change\",\n",
    "\n",
    "\"LABEL_18\": \"Stock Commentary\",\n",
    "\n",
    "\"LABEL_19\": \"Stock Movement\""
   ]
  },
  {
   "cell_type": "code",
   "execution_count": 2,
   "id": "6f5cb709",
   "metadata": {},
   "outputs": [],
   "source": [
    "# Wczytanie danych"
   ]
  },
  {
   "cell_type": "code",
   "execution_count": 3,
   "id": "c57d32a7",
   "metadata": {},
   "outputs": [],
   "source": [
    "import pandas as pd"
   ]
  },
  {
   "cell_type": "code",
   "execution_count": 4,
   "id": "5615faf9",
   "metadata": {},
   "outputs": [],
   "source": [
    "df = pd.read_csv('train_data.csv')"
   ]
  },
  {
   "cell_type": "code",
   "execution_count": 5,
   "id": "dca84579",
   "metadata": {},
   "outputs": [],
   "source": [
    "df2 = pd.read_csv('valid_data.csv')"
   ]
  },
  {
   "cell_type": "code",
   "execution_count": 6,
   "id": "596b9ddb",
   "metadata": {},
   "outputs": [
    {
     "data": {
      "text/html": [
       "<div>\n",
       "<style scoped>\n",
       "    .dataframe tbody tr th:only-of-type {\n",
       "        vertical-align: middle;\n",
       "    }\n",
       "\n",
       "    .dataframe tbody tr th {\n",
       "        vertical-align: top;\n",
       "    }\n",
       "\n",
       "    .dataframe thead th {\n",
       "        text-align: right;\n",
       "    }\n",
       "</style>\n",
       "<table border=\"1\" class=\"dataframe\">\n",
       "  <thead>\n",
       "    <tr style=\"text-align: right;\">\n",
       "      <th></th>\n",
       "      <th>text</th>\n",
       "      <th>label</th>\n",
       "    </tr>\n",
       "  </thead>\n",
       "  <tbody>\n",
       "    <tr>\n",
       "      <th>0</th>\n",
       "      <td>Here are Thursday's biggest analyst calls: App...</td>\n",
       "      <td>0</td>\n",
       "    </tr>\n",
       "    <tr>\n",
       "      <th>1</th>\n",
       "      <td>Buy Las Vegas Sands as travel to Singapore bui...</td>\n",
       "      <td>0</td>\n",
       "    </tr>\n",
       "    <tr>\n",
       "      <th>2</th>\n",
       "      <td>Piper Sandler downgrades DocuSign to sell, cit...</td>\n",
       "      <td>0</td>\n",
       "    </tr>\n",
       "    <tr>\n",
       "      <th>3</th>\n",
       "      <td>Analysts react to Tesla's latest earnings, bre...</td>\n",
       "      <td>0</td>\n",
       "    </tr>\n",
       "    <tr>\n",
       "      <th>4</th>\n",
       "      <td>Netflix and its peers are set for a ‘return to...</td>\n",
       "      <td>0</td>\n",
       "    </tr>\n",
       "    <tr>\n",
       "      <th>...</th>\n",
       "      <td>...</td>\n",
       "      <td>...</td>\n",
       "    </tr>\n",
       "    <tr>\n",
       "      <th>16985</th>\n",
       "      <td>KfW credit line for Uniper could be raised to ...</td>\n",
       "      <td>3</td>\n",
       "    </tr>\n",
       "    <tr>\n",
       "      <th>16986</th>\n",
       "      <td>KfW credit line for Uniper could be raised to ...</td>\n",
       "      <td>3</td>\n",
       "    </tr>\n",
       "    <tr>\n",
       "      <th>16987</th>\n",
       "      <td>Russian  https://t.co/R0iPhyo5p7 sells 1 bln r...</td>\n",
       "      <td>3</td>\n",
       "    </tr>\n",
       "    <tr>\n",
       "      <th>16988</th>\n",
       "      <td>Global ESG bond issuance posts H1 dip as supra...</td>\n",
       "      <td>3</td>\n",
       "    </tr>\n",
       "    <tr>\n",
       "      <th>16989</th>\n",
       "      <td>Brazil's Petrobras says it signed a $1.25 bill...</td>\n",
       "      <td>3</td>\n",
       "    </tr>\n",
       "  </tbody>\n",
       "</table>\n",
       "<p>16990 rows × 2 columns</p>\n",
       "</div>"
      ],
      "text/plain": [
       "                                                    text  label\n",
       "0      Here are Thursday's biggest analyst calls: App...      0\n",
       "1      Buy Las Vegas Sands as travel to Singapore bui...      0\n",
       "2      Piper Sandler downgrades DocuSign to sell, cit...      0\n",
       "3      Analysts react to Tesla's latest earnings, bre...      0\n",
       "4      Netflix and its peers are set for a ‘return to...      0\n",
       "...                                                  ...    ...\n",
       "16985  KfW credit line for Uniper could be raised to ...      3\n",
       "16986  KfW credit line for Uniper could be raised to ...      3\n",
       "16987  Russian  https://t.co/R0iPhyo5p7 sells 1 bln r...      3\n",
       "16988  Global ESG bond issuance posts H1 dip as supra...      3\n",
       "16989  Brazil's Petrobras says it signed a $1.25 bill...      3\n",
       "\n",
       "[16990 rows x 2 columns]"
      ]
     },
     "execution_count": 6,
     "metadata": {},
     "output_type": "execute_result"
    }
   ],
   "source": [
    "df"
   ]
  },
  {
   "cell_type": "code",
   "execution_count": 7,
   "id": "e92ad5ab",
   "metadata": {},
   "outputs": [
    {
     "data": {
      "text/html": [
       "<div>\n",
       "<style scoped>\n",
       "    .dataframe tbody tr th:only-of-type {\n",
       "        vertical-align: middle;\n",
       "    }\n",
       "\n",
       "    .dataframe tbody tr th {\n",
       "        vertical-align: top;\n",
       "    }\n",
       "\n",
       "    .dataframe thead th {\n",
       "        text-align: right;\n",
       "    }\n",
       "</style>\n",
       "<table border=\"1\" class=\"dataframe\">\n",
       "  <thead>\n",
       "    <tr style=\"text-align: right;\">\n",
       "      <th></th>\n",
       "      <th>text</th>\n",
       "      <th>label</th>\n",
       "    </tr>\n",
       "  </thead>\n",
       "  <tbody>\n",
       "    <tr>\n",
       "      <th>0</th>\n",
       "      <td>Analyst call of the day for @CNBCPro subscribe...</td>\n",
       "      <td>0</td>\n",
       "    </tr>\n",
       "    <tr>\n",
       "      <th>1</th>\n",
       "      <td>Loop upgrades CSX to buy, says it's a good pla...</td>\n",
       "      <td>0</td>\n",
       "    </tr>\n",
       "    <tr>\n",
       "      <th>2</th>\n",
       "      <td>BofA believes we're already in a recession — a...</td>\n",
       "      <td>0</td>\n",
       "    </tr>\n",
       "    <tr>\n",
       "      <th>3</th>\n",
       "      <td>JPMorgan sees these derivative plays as best w...</td>\n",
       "      <td>0</td>\n",
       "    </tr>\n",
       "    <tr>\n",
       "      <th>4</th>\n",
       "      <td>Morgan Stanley's Huberty sees Apple earnings m...</td>\n",
       "      <td>0</td>\n",
       "    </tr>\n",
       "    <tr>\n",
       "      <th>...</th>\n",
       "      <td>...</td>\n",
       "      <td>...</td>\n",
       "    </tr>\n",
       "    <tr>\n",
       "      <th>4112</th>\n",
       "      <td>Dollar bonds of Chinese developers fall as str...</td>\n",
       "      <td>3</td>\n",
       "    </tr>\n",
       "    <tr>\n",
       "      <th>4113</th>\n",
       "      <td>Longer maturity Treasury yields have scope to ...</td>\n",
       "      <td>3</td>\n",
       "    </tr>\n",
       "    <tr>\n",
       "      <th>4114</th>\n",
       "      <td>Pimco buys €1bn of Apollo buyout loans from ba...</td>\n",
       "      <td>3</td>\n",
       "    </tr>\n",
       "    <tr>\n",
       "      <th>4115</th>\n",
       "      <td>Analysis: Banks' snubbing of junk-rated loan f...</td>\n",
       "      <td>3</td>\n",
       "    </tr>\n",
       "    <tr>\n",
       "      <th>4116</th>\n",
       "      <td>U.S. Treasury seeks information on digital ass...</td>\n",
       "      <td>3</td>\n",
       "    </tr>\n",
       "  </tbody>\n",
       "</table>\n",
       "<p>4117 rows × 2 columns</p>\n",
       "</div>"
      ],
      "text/plain": [
       "                                                   text  label\n",
       "0     Analyst call of the day for @CNBCPro subscribe...      0\n",
       "1     Loop upgrades CSX to buy, says it's a good pla...      0\n",
       "2     BofA believes we're already in a recession — a...      0\n",
       "3     JPMorgan sees these derivative plays as best w...      0\n",
       "4     Morgan Stanley's Huberty sees Apple earnings m...      0\n",
       "...                                                 ...    ...\n",
       "4112  Dollar bonds of Chinese developers fall as str...      3\n",
       "4113  Longer maturity Treasury yields have scope to ...      3\n",
       "4114  Pimco buys €1bn of Apollo buyout loans from ba...      3\n",
       "4115  Analysis: Banks' snubbing of junk-rated loan f...      3\n",
       "4116  U.S. Treasury seeks information on digital ass...      3\n",
       "\n",
       "[4117 rows x 2 columns]"
      ]
     },
     "execution_count": 7,
     "metadata": {},
     "output_type": "execute_result"
    }
   ],
   "source": [
    "df2"
   ]
  },
  {
   "cell_type": "code",
   "execution_count": 8,
   "id": "a99cffde",
   "metadata": {},
   "outputs": [],
   "source": [
    "# Połączmy dane"
   ]
  },
  {
   "cell_type": "code",
   "execution_count": 9,
   "id": "ac06ddfa",
   "metadata": {},
   "outputs": [],
   "source": [
    "df = df.append(df2)"
   ]
  },
  {
   "cell_type": "code",
   "execution_count": 10,
   "id": "5f448cdb",
   "metadata": {},
   "outputs": [],
   "source": [
    "df = df.reset_index(drop=True)"
   ]
  },
  {
   "cell_type": "code",
   "execution_count": 11,
   "id": "46b44c89",
   "metadata": {},
   "outputs": [
    {
     "data": {
      "text/html": [
       "<div>\n",
       "<style scoped>\n",
       "    .dataframe tbody tr th:only-of-type {\n",
       "        vertical-align: middle;\n",
       "    }\n",
       "\n",
       "    .dataframe tbody tr th {\n",
       "        vertical-align: top;\n",
       "    }\n",
       "\n",
       "    .dataframe thead th {\n",
       "        text-align: right;\n",
       "    }\n",
       "</style>\n",
       "<table border=\"1\" class=\"dataframe\">\n",
       "  <thead>\n",
       "    <tr style=\"text-align: right;\">\n",
       "      <th></th>\n",
       "      <th>text</th>\n",
       "      <th>label</th>\n",
       "    </tr>\n",
       "  </thead>\n",
       "  <tbody>\n",
       "    <tr>\n",
       "      <th>0</th>\n",
       "      <td>Here are Thursday's biggest analyst calls: App...</td>\n",
       "      <td>0</td>\n",
       "    </tr>\n",
       "    <tr>\n",
       "      <th>1</th>\n",
       "      <td>Buy Las Vegas Sands as travel to Singapore bui...</td>\n",
       "      <td>0</td>\n",
       "    </tr>\n",
       "    <tr>\n",
       "      <th>2</th>\n",
       "      <td>Piper Sandler downgrades DocuSign to sell, cit...</td>\n",
       "      <td>0</td>\n",
       "    </tr>\n",
       "    <tr>\n",
       "      <th>3</th>\n",
       "      <td>Analysts react to Tesla's latest earnings, bre...</td>\n",
       "      <td>0</td>\n",
       "    </tr>\n",
       "    <tr>\n",
       "      <th>4</th>\n",
       "      <td>Netflix and its peers are set for a ‘return to...</td>\n",
       "      <td>0</td>\n",
       "    </tr>\n",
       "    <tr>\n",
       "      <th>...</th>\n",
       "      <td>...</td>\n",
       "      <td>...</td>\n",
       "    </tr>\n",
       "    <tr>\n",
       "      <th>21102</th>\n",
       "      <td>Dollar bonds of Chinese developers fall as str...</td>\n",
       "      <td>3</td>\n",
       "    </tr>\n",
       "    <tr>\n",
       "      <th>21103</th>\n",
       "      <td>Longer maturity Treasury yields have scope to ...</td>\n",
       "      <td>3</td>\n",
       "    </tr>\n",
       "    <tr>\n",
       "      <th>21104</th>\n",
       "      <td>Pimco buys €1bn of Apollo buyout loans from ba...</td>\n",
       "      <td>3</td>\n",
       "    </tr>\n",
       "    <tr>\n",
       "      <th>21105</th>\n",
       "      <td>Analysis: Banks' snubbing of junk-rated loan f...</td>\n",
       "      <td>3</td>\n",
       "    </tr>\n",
       "    <tr>\n",
       "      <th>21106</th>\n",
       "      <td>U.S. Treasury seeks information on digital ass...</td>\n",
       "      <td>3</td>\n",
       "    </tr>\n",
       "  </tbody>\n",
       "</table>\n",
       "<p>21107 rows × 2 columns</p>\n",
       "</div>"
      ],
      "text/plain": [
       "                                                    text  label\n",
       "0      Here are Thursday's biggest analyst calls: App...      0\n",
       "1      Buy Las Vegas Sands as travel to Singapore bui...      0\n",
       "2      Piper Sandler downgrades DocuSign to sell, cit...      0\n",
       "3      Analysts react to Tesla's latest earnings, bre...      0\n",
       "4      Netflix and its peers are set for a ‘return to...      0\n",
       "...                                                  ...    ...\n",
       "21102  Dollar bonds of Chinese developers fall as str...      3\n",
       "21103  Longer maturity Treasury yields have scope to ...      3\n",
       "21104  Pimco buys €1bn of Apollo buyout loans from ba...      3\n",
       "21105  Analysis: Banks' snubbing of junk-rated loan f...      3\n",
       "21106  U.S. Treasury seeks information on digital ass...      3\n",
       "\n",
       "[21107 rows x 2 columns]"
      ]
     },
     "execution_count": 11,
     "metadata": {},
     "output_type": "execute_result"
    }
   ],
   "source": [
    "df"
   ]
  },
  {
   "cell_type": "code",
   "execution_count": 12,
   "id": "0cc4db06",
   "metadata": {},
   "outputs": [],
   "source": [
    "# Zapoznanie z danymi"
   ]
  },
  {
   "cell_type": "code",
   "execution_count": 13,
   "id": "c90d7dc7",
   "metadata": {},
   "outputs": [
    {
     "data": {
      "text/html": [
       "<div>\n",
       "<style scoped>\n",
       "    .dataframe tbody tr th:only-of-type {\n",
       "        vertical-align: middle;\n",
       "    }\n",
       "\n",
       "    .dataframe tbody tr th {\n",
       "        vertical-align: top;\n",
       "    }\n",
       "\n",
       "    .dataframe thead th {\n",
       "        text-align: right;\n",
       "    }\n",
       "</style>\n",
       "<table border=\"1\" class=\"dataframe\">\n",
       "  <thead>\n",
       "    <tr style=\"text-align: right;\">\n",
       "      <th></th>\n",
       "      <th>text</th>\n",
       "      <th>label</th>\n",
       "    </tr>\n",
       "  </thead>\n",
       "  <tbody>\n",
       "    <tr>\n",
       "      <th>0</th>\n",
       "      <td>Here are Thursday's biggest analyst calls: Apple, Amazon, Tesla, Palantir, DocuSign, Exxon &amp;amp; more  https://t.co/QPN8Gwl7Uh</td>\n",
       "      <td>0</td>\n",
       "    </tr>\n",
       "    <tr>\n",
       "      <th>1</th>\n",
       "      <td>Buy Las Vegas Sands as travel to Singapore builds, Wells Fargo says  https://t.co/fLS2w57iCz</td>\n",
       "      <td>0</td>\n",
       "    </tr>\n",
       "    <tr>\n",
       "      <th>2</th>\n",
       "      <td>Piper Sandler downgrades DocuSign to sell, citing elevated risks amid CEO transition  https://t.co/1EmtywmYpr</td>\n",
       "      <td>0</td>\n",
       "    </tr>\n",
       "    <tr>\n",
       "      <th>3</th>\n",
       "      <td>Analysts react to Tesla's latest earnings, break down what's next for electric car maker  https://t.co/kwhoE6W06u</td>\n",
       "      <td>0</td>\n",
       "    </tr>\n",
       "    <tr>\n",
       "      <th>4</th>\n",
       "      <td>Netflix and its peers are set for a ‘return to growth,’ analysts say, giving one stock 120% upside  https://t.co/jPpdl0D9s4</td>\n",
       "      <td>0</td>\n",
       "    </tr>\n",
       "  </tbody>\n",
       "</table>\n",
       "</div>"
      ],
      "text/plain": [
       "                                                                                                                             text  \\\n",
       "0  Here are Thursday's biggest analyst calls: Apple, Amazon, Tesla, Palantir, DocuSign, Exxon &amp; more  https://t.co/QPN8Gwl7Uh   \n",
       "1                                    Buy Las Vegas Sands as travel to Singapore builds, Wells Fargo says  https://t.co/fLS2w57iCz   \n",
       "2                   Piper Sandler downgrades DocuSign to sell, citing elevated risks amid CEO transition  https://t.co/1EmtywmYpr   \n",
       "3               Analysts react to Tesla's latest earnings, break down what's next for electric car maker  https://t.co/kwhoE6W06u   \n",
       "4     Netflix and its peers are set for a ‘return to growth,’ analysts say, giving one stock 120% upside  https://t.co/jPpdl0D9s4   \n",
       "\n",
       "   label  \n",
       "0      0  \n",
       "1      0  \n",
       "2      0  \n",
       "3      0  \n",
       "4      0  "
      ]
     },
     "execution_count": 13,
     "metadata": {},
     "output_type": "execute_result"
    }
   ],
   "source": [
    "pd.set_option('display.max_colwidth', 500)\n",
    "pd.set_option('display.max_rows', 100)\n",
    "df.head()"
   ]
  },
  {
   "cell_type": "code",
   "execution_count": 14,
   "id": "b7a9b16b",
   "metadata": {},
   "outputs": [
    {
     "name": "stdout",
     "output_type": "stream",
     "text": [
      "<class 'pandas.core.frame.DataFrame'>\n",
      "RangeIndex: 21107 entries, 0 to 21106\n",
      "Data columns (total 2 columns):\n",
      " #   Column  Non-Null Count  Dtype \n",
      "---  ------  --------------  ----- \n",
      " 0   text    21107 non-null  object\n",
      " 1   label   21107 non-null  int64 \n",
      "dtypes: int64(1), object(1)\n",
      "memory usage: 329.9+ KB\n"
     ]
    }
   ],
   "source": [
    "df.info()"
   ]
  },
  {
   "cell_type": "code",
   "execution_count": 15,
   "id": "b48bf92a",
   "metadata": {},
   "outputs": [],
   "source": [
    "# Zmienna celu to label - zerknijmy na jej zawartość"
   ]
  },
  {
   "cell_type": "code",
   "execution_count": 16,
   "id": "719e38ae",
   "metadata": {},
   "outputs": [
    {
     "data": {
      "text/plain": [
       "2     4397\n",
       "18    2646\n",
       "14    2237\n",
       "9     1893\n",
       "16    1234\n",
       "5     1229\n",
       "1     1051\n",
       "19    1020\n",
       "7      784\n",
       "6      670\n",
       "15     626\n",
       "17     607\n",
       "12     606\n",
       "13     587\n",
       "4      456\n",
       "3      398\n",
       "0      328\n",
       "8      198\n",
       "10      82\n",
       "11      58\n",
       "Name: label, dtype: int64"
      ]
     },
     "execution_count": 16,
     "metadata": {},
     "output_type": "execute_result"
    }
   ],
   "source": [
    "df['label'].value_counts()"
   ]
  },
  {
   "cell_type": "code",
   "execution_count": 17,
   "id": "dafc5b0f",
   "metadata": {},
   "outputs": [],
   "source": [
    "# Zbiór danych nie jest zbalansowany - zwizualizujmy zawartość"
   ]
  },
  {
   "cell_type": "code",
   "execution_count": 18,
   "id": "325ea496",
   "metadata": {},
   "outputs": [
    {
     "data": {
      "text/plain": [
       "Text(0.5, 1.0, 'Labels bar plot')"
      ]
     },
     "execution_count": 18,
     "metadata": {},
     "output_type": "execute_result"
    },
    {
     "data": {
      "image/png": "[encoded data removed]",
      "text/plain": [
       "<Figure size 1008x576 with 1 Axes>"
      ]
     },
     "metadata": {
      "needs_background": "light"
     },
     "output_type": "display_data"
    }
   ],
   "source": [
    "import matplotlib.pyplot as plt\n",
    "plt.figure(figsize=(14,8))\n",
    "df['label'].value_counts().plot(kind='bar')\n",
    "plt.ylabel('count')\n",
    "plt.xlabel('label')\n",
    "plt.title('Labels bar plot')"
   ]
  },
  {
   "cell_type": "code",
   "execution_count": 20,
   "id": "fdd24fff",
   "metadata": {},
   "outputs": [],
   "source": [
    "# Dokonajmy analizy długości tekstu - zliczamy wyrazy"
   ]
  },
  {
   "cell_type": "code",
   "execution_count": 21,
   "id": "59652291",
   "metadata": {},
   "outputs": [
    {
     "data": {
      "text/plain": [
       "['aa', 'pp']"
      ]
     },
     "execution_count": 21,
     "metadata": {},
     "output_type": "execute_result"
    }
   ],
   "source": [
    "'aa pp'.split()"
   ]
  },
  {
   "cell_type": "code",
   "execution_count": 22,
   "id": "d4371ad4",
   "metadata": {},
   "outputs": [],
   "source": [
    "df['size'] = df['text'].apply(lambda a: len(a.split()))"
   ]
  },
  {
   "cell_type": "code",
   "execution_count": 23,
   "id": "ab1cb7e3",
   "metadata": {},
   "outputs": [
    {
     "data": {
      "text/html": [
       "<div>\n",
       "<style scoped>\n",
       "    .dataframe tbody tr th:only-of-type {\n",
       "        vertical-align: middle;\n",
       "    }\n",
       "\n",
       "    .dataframe tbody tr th {\n",
       "        vertical-align: top;\n",
       "    }\n",
       "\n",
       "    .dataframe thead th {\n",
       "        text-align: right;\n",
       "    }\n",
       "</style>\n",
       "<table border=\"1\" class=\"dataframe\">\n",
       "  <thead>\n",
       "    <tr style=\"text-align: right;\">\n",
       "      <th></th>\n",
       "      <th>text</th>\n",
       "      <th>label</th>\n",
       "      <th>size</th>\n",
       "    </tr>\n",
       "  </thead>\n",
       "  <tbody>\n",
       "    <tr>\n",
       "      <th>0</th>\n",
       "      <td>Here are Thursday's biggest analyst calls: Apple, Amazon, Tesla, Palantir, DocuSign, Exxon &amp;amp; more  https://t.co/QPN8Gwl7Uh</td>\n",
       "      <td>0</td>\n",
       "      <td>15</td>\n",
       "    </tr>\n",
       "    <tr>\n",
       "      <th>1</th>\n",
       "      <td>Buy Las Vegas Sands as travel to Singapore builds, Wells Fargo says  https://t.co/fLS2w57iCz</td>\n",
       "      <td>0</td>\n",
       "      <td>13</td>\n",
       "    </tr>\n",
       "    <tr>\n",
       "      <th>2</th>\n",
       "      <td>Piper Sandler downgrades DocuSign to sell, citing elevated risks amid CEO transition  https://t.co/1EmtywmYpr</td>\n",
       "      <td>0</td>\n",
       "      <td>13</td>\n",
       "    </tr>\n",
       "    <tr>\n",
       "      <th>3</th>\n",
       "      <td>Analysts react to Tesla's latest earnings, break down what's next for electric car maker  https://t.co/kwhoE6W06u</td>\n",
       "      <td>0</td>\n",
       "      <td>15</td>\n",
       "    </tr>\n",
       "    <tr>\n",
       "      <th>4</th>\n",
       "      <td>Netflix and its peers are set for a ‘return to growth,’ analysts say, giving one stock 120% upside  https://t.co/jPpdl0D9s4</td>\n",
       "      <td>0</td>\n",
       "      <td>19</td>\n",
       "    </tr>\n",
       "    <tr>\n",
       "      <th>...</th>\n",
       "      <td>...</td>\n",
       "      <td>...</td>\n",
       "      <td>...</td>\n",
       "    </tr>\n",
       "    <tr>\n",
       "      <th>21102</th>\n",
       "      <td>Dollar bonds of Chinese developers fall as stress spreads from junk-rated names to investment-grade peers amid renewed concerns about more Covid lockdowns  https://t.co/uhSv4iiR6C</td>\n",
       "      <td>3</td>\n",
       "      <td>23</td>\n",
       "    </tr>\n",
       "    <tr>\n",
       "      <th>21103</th>\n",
       "      <td>Longer maturity Treasury yields have scope to go higher still and the market is erring in pricing in Fed interest-rate cuts in the latter part of 2023, according to Franklin Templeton  https://t.co/KkTCLG66m2</td>\n",
       "      <td>3</td>\n",
       "      <td>32</td>\n",
       "    </tr>\n",
       "    <tr>\n",
       "      <th>21104</th>\n",
       "      <td>Pimco buys €1bn of Apollo buyout loans from banks  https://t.co/nbgVPY34JA</td>\n",
       "      <td>3</td>\n",
       "      <td>10</td>\n",
       "    </tr>\n",
       "    <tr>\n",
       "      <th>21105</th>\n",
       "      <td>Analysis: Banks' snubbing of junk-rated loan funds worsens financing logjam  https://t.co/Jl0EuExhB1  https://t.co/M8MuEzCPO1</td>\n",
       "      <td>3</td>\n",
       "      <td>12</td>\n",
       "    </tr>\n",
       "    <tr>\n",
       "      <th>21106</th>\n",
       "      <td>U.S. Treasury seeks information on digital asset risks  https://t.co/1qmdZ0O1n1  https://t.co/Zhn49a7nsy</td>\n",
       "      <td>3</td>\n",
       "      <td>10</td>\n",
       "    </tr>\n",
       "  </tbody>\n",
       "</table>\n",
       "<p>21107 rows × 3 columns</p>\n",
       "</div>"
      ],
      "text/plain": [
       "                                                                                                                                                                                                                   text  \\\n",
       "0                                                                                        Here are Thursday's biggest analyst calls: Apple, Amazon, Tesla, Palantir, DocuSign, Exxon &amp; more  https://t.co/QPN8Gwl7Uh   \n",
       "1                                                                                                                          Buy Las Vegas Sands as travel to Singapore builds, Wells Fargo says  https://t.co/fLS2w57iCz   \n",
       "2                                                                                                         Piper Sandler downgrades DocuSign to sell, citing elevated risks amid CEO transition  https://t.co/1EmtywmYpr   \n",
       "3                                                                                                     Analysts react to Tesla's latest earnings, break down what's next for electric car maker  https://t.co/kwhoE6W06u   \n",
       "4                                                                                           Netflix and its peers are set for a ‘return to growth,’ analysts say, giving one stock 120% upside  https://t.co/jPpdl0D9s4   \n",
       "...                                                                                                                                                                                                                 ...   \n",
       "21102                               Dollar bonds of Chinese developers fall as stress spreads from junk-rated names to investment-grade peers amid renewed concerns about more Covid lockdowns  https://t.co/uhSv4iiR6C   \n",
       "21103  Longer maturity Treasury yields have scope to go higher still and the market is erring in pricing in Fed interest-rate cuts in the latter part of 2023, according to Franklin Templeton  https://t.co/KkTCLG66m2   \n",
       "21104                                                                                                                                        Pimco buys €1bn of Apollo buyout loans from banks  https://t.co/nbgVPY34JA   \n",
       "21105                                                                                     Analysis: Banks' snubbing of junk-rated loan funds worsens financing logjam  https://t.co/Jl0EuExhB1  https://t.co/M8MuEzCPO1   \n",
       "21106                                                                                                          U.S. Treasury seeks information on digital asset risks  https://t.co/1qmdZ0O1n1  https://t.co/Zhn49a7nsy   \n",
       "\n",
       "       label  size  \n",
       "0          0    15  \n",
       "1          0    13  \n",
       "2          0    13  \n",
       "3          0    15  \n",
       "4          0    19  \n",
       "...      ...   ...  \n",
       "21102      3    23  \n",
       "21103      3    32  \n",
       "21104      3    10  \n",
       "21105      3    12  \n",
       "21106      3    10  \n",
       "\n",
       "[21107 rows x 3 columns]"
      ]
     },
     "execution_count": 23,
     "metadata": {},
     "output_type": "execute_result"
    }
   ],
   "source": [
    "df"
   ]
  },
  {
   "cell_type": "code",
   "execution_count": 24,
   "id": "f26866cc",
   "metadata": {},
   "outputs": [
    {
     "data": {
      "text/plain": [
       "text     0\n",
       "label    0\n",
       "size     0\n",
       "dtype: int64"
      ]
     },
     "execution_count": 24,
     "metadata": {},
     "output_type": "execute_result"
    }
   ],
   "source": [
    "# Czy mamy brakujące dane?\n",
    "df.isna().sum()"
   ]
  },
  {
   "cell_type": "code",
   "execution_count": 25,
   "id": "ef007a40",
   "metadata": {},
   "outputs": [],
   "source": [
    "# W datasecie nie ma brakujących danych"
   ]
  },
  {
   "cell_type": "code",
   "execution_count": 26,
   "id": "dc26fbc0",
   "metadata": {},
   "outputs": [
    {
     "data": {
      "text/plain": [
       "15"
      ]
     },
     "execution_count": 26,
     "metadata": {},
     "output_type": "execute_result"
    }
   ],
   "source": [
    "len(df.iloc[0]['text'].split())"
   ]
  },
  {
   "cell_type": "code",
   "execution_count": 27,
   "id": "8009db1a",
   "metadata": {},
   "outputs": [],
   "source": [
    "# Zerknijmy na histogram długości"
   ]
  },
  {
   "cell_type": "code",
   "execution_count": 28,
   "id": "282b7a69",
   "metadata": {},
   "outputs": [
    {
     "data": {
      "text/plain": [
       "Text(0.5, 1.0, 'Size histogram')"
      ]
     },
     "execution_count": 28,
     "metadata": {},
     "output_type": "execute_result"
    },
    {
     "data": {
      "image/png": "[encoded data removed]",
      "text/plain": [
       "<Figure size 1008x576 with 1 Axes>"
      ]
     },
     "metadata": {
      "needs_background": "light"
     },
     "output_type": "display_data"
    }
   ],
   "source": [
    "plt.figure(figsize=(14,8))\n",
    "df['size'].plot.hist(bins=30)\n",
    "plt.ylabel('count')\n",
    "plt.xlabel('size')\n",
    "plt.title('Size histogram')"
   ]
  },
  {
   "cell_type": "code",
   "execution_count": 29,
   "id": "5f6f0a7e",
   "metadata": {},
   "outputs": [],
   "source": [
    "# Dane składają się z wielu wyrazów - najczęściej jest to 10 - 20."
   ]
  },
  {
   "cell_type": "code",
   "execution_count": 30,
   "id": "f044b2e9",
   "metadata": {},
   "outputs": [],
   "source": [
    "# Zerknijmy na wartości odstające"
   ]
  },
  {
   "cell_type": "code",
   "execution_count": 31,
   "id": "5cc6ee69",
   "metadata": {},
   "outputs": [
    {
     "data": {
      "text/plain": [
       "Text(0.5, 1.0, 'Size boxplot')"
      ]
     },
     "execution_count": 31,
     "metadata": {},
     "output_type": "execute_result"
    },
    {
     "data": {
      "image/png": "[encoded data removed]",
      "text/plain": [
       "<Figure size 1008x576 with 1 Axes>"
      ]
     },
     "metadata": {
      "needs_background": "light"
     },
     "output_type": "display_data"
    }
   ],
   "source": [
    "plt.figure(figsize=(14,8))\n",
    "df['size'].plot.box()\n",
    "plt.title('Size boxplot')"
   ]
  },
  {
   "cell_type": "code",
   "execution_count": 32,
   "id": "8ba619c9",
   "metadata": {},
   "outputs": [],
   "source": [
    "# Jako wartości odstające zaliczane są dane składające się z powyżej 40 wyrazów."
   ]
  },
  {
   "cell_type": "code",
   "execution_count": 33,
   "id": "a3e0a114",
   "metadata": {},
   "outputs": [
    {
     "data": {
      "text/plain": [
       "count    21107.000000\n",
       "mean        18.324584\n",
       "std          8.703550\n",
       "min          1.000000\n",
       "25%         12.000000\n",
       "50%         16.000000\n",
       "75%         23.000000\n",
       "max         64.000000\n",
       "Name: size, dtype: float64"
      ]
     },
     "execution_count": 33,
     "metadata": {},
     "output_type": "execute_result"
    }
   ],
   "source": [
    "df['size'].describe()"
   ]
  },
  {
   "cell_type": "code",
   "execution_count": 34,
   "id": "078cf0ca",
   "metadata": {},
   "outputs": [],
   "source": [
    "# Maksymalna liczba wyrazów w danych to 64, minimalna - 1. Średnio na rekord danych przypada 18 wyrazów z odchyleniem \n",
    "# standardowym równym ~9 wyrazów."
   ]
  },
  {
   "cell_type": "code",
   "execution_count": 35,
   "id": "c15c72b1",
   "metadata": {},
   "outputs": [],
   "source": [
    "# Skośność"
   ]
  },
  {
   "cell_type": "code",
   "execution_count": 36,
   "id": "a61f2274",
   "metadata": {},
   "outputs": [
    {
     "name": "stdout",
     "output_type": "stream",
     "text": [
      "Skoścność: 1.0239217075988758\n"
     ]
    }
   ],
   "source": [
    "print(f\"Skoścność: {df['size'].skew()}\")"
   ]
  },
  {
   "cell_type": "code",
   "execution_count": 37,
   "id": "6cf545d9",
   "metadata": {},
   "outputs": [],
   "source": [
    "# Rozkład prawostronnie skośny."
   ]
  },
  {
   "cell_type": "code",
   "execution_count": 38,
   "id": "a8745b7a",
   "metadata": {},
   "outputs": [],
   "source": [
    "# Wartości odstające mogą zdecydowanie utrudnić analizę - obejrzyjmy je z wykorzystaniem zscore"
   ]
  },
  {
   "cell_type": "code",
   "execution_count": 39,
   "id": "c0bc44a2",
   "metadata": {},
   "outputs": [],
   "source": [
    "df['zscore'] = (df['size'] - df['size'].mean()) / df['size'].std()"
   ]
  },
  {
   "cell_type": "code",
   "execution_count": 40,
   "id": "5753a709",
   "metadata": {},
   "outputs": [
    {
     "data": {
      "text/plain": [
       "count    2.110700e+04\n",
       "mean     1.668938e-16\n",
       "std      1.000000e+00\n",
       "min     -1.990519e+00\n",
       "25%     -7.266672e-01\n",
       "50%     -2.670846e-01\n",
       "75%      5.371849e-01\n",
       "max      5.247906e+00\n",
       "Name: zscore, dtype: float64"
      ]
     },
     "execution_count": 40,
     "metadata": {},
     "output_type": "execute_result"
    }
   ],
   "source": [
    "df['zscore'].describe()"
   ]
  },
  {
   "cell_type": "code",
   "execution_count": 41,
   "id": "b1f04e22",
   "metadata": {},
   "outputs": [],
   "source": [
    "# Jako wartości odstające zaliczamy zscore większy od 3 - zerknijmy na nie"
   ]
  },
  {
   "cell_type": "code",
   "execution_count": 42,
   "id": "8d0d632d",
   "metadata": {},
   "outputs": [],
   "source": [
    "outlayers = df[abs(df['zscore']) > 3]"
   ]
  },
  {
   "cell_type": "code",
   "execution_count": 43,
   "id": "9d6220f3",
   "metadata": {},
   "outputs": [
    {
     "data": {
      "text/plain": [
       "Text(0.5, 1.0, 'outlayers bar plot')"
      ]
     },
     "execution_count": 43,
     "metadata": {},
     "output_type": "execute_result"
    },
    {
     "data": {
      "image/png": "[encoded data removed]",
      "text/plain": [
       "<Figure size 1008x576 with 1 Axes>"
      ]
     },
     "metadata": {
      "needs_background": "light"
     },
     "output_type": "display_data"
    }
   ],
   "source": [
    "plt.figure(figsize=(14,8))\n",
    "outlayers['label'].value_counts().plot(kind='bar')\n",
    "plt.ylabel('count')\n",
    "plt.xlabel('label')\n",
    "plt.title('outlayers bar plot')"
   ]
  },
  {
   "cell_type": "code",
   "execution_count": 44,
   "id": "085a066a",
   "metadata": {},
   "outputs": [],
   "source": [
    "# Najwięcej wartości odstających znajduje się w klasie 18. Zgodnie z opisem datasetu jest to Stock Commentary."
   ]
  },
  {
   "cell_type": "code",
   "execution_count": 45,
   "id": "90a5592d",
   "metadata": {},
   "outputs": [],
   "source": [
    "# Usuńmy dane odstające"
   ]
  },
  {
   "cell_type": "code",
   "execution_count": 46,
   "id": "b76dc9e9",
   "metadata": {},
   "outputs": [],
   "source": [
    "df_no_outliers = df[abs(df['zscore']) <= 3]"
   ]
  },
  {
   "cell_type": "code",
   "execution_count": 47,
   "id": "dcd5b023",
   "metadata": {},
   "outputs": [],
   "source": [
    "# Dokonajmy również analizy liczby znaków w każdym tweecie"
   ]
  },
  {
   "cell_type": "code",
   "execution_count": 48,
   "id": "e2e853c1",
   "metadata": {},
   "outputs": [],
   "source": [
    "df['len'] = df['text'].apply(lambda a: len(a))"
   ]
  },
  {
   "cell_type": "code",
   "execution_count": 49,
   "id": "4fb9e8b7",
   "metadata": {},
   "outputs": [
    {
     "data": {
      "text/plain": [
       "Text(0.5, 1.0, 'Length histogram')"
      ]
     },
     "execution_count": 49,
     "metadata": {},
     "output_type": "execute_result"
    },
    {
     "data": {
      "image/png": "[encoded data removed]",
      "text/plain": [
       "<Figure size 1008x576 with 1 Axes>"
      ]
     },
     "metadata": {
      "needs_background": "light"
     },
     "output_type": "display_data"
    }
   ],
   "source": [
    "plt.figure(figsize=(14,8))\n",
    "df['len'].plot.hist(bins=30)\n",
    "plt.ylabel('count')\n",
    "plt.xlabel('length')\n",
    "plt.title('Length histogram')"
   ]
  },
  {
   "cell_type": "code",
   "execution_count": 50,
   "id": "d7d74c38",
   "metadata": {},
   "outputs": [
    {
     "name": "stdout",
     "output_type": "stream",
     "text": [
      "Skoścność: 0.67490408413962\n"
     ]
    }
   ],
   "source": [
    "print(f\"Skoścność: {df['len'].skew()}\")"
   ]
  },
  {
   "cell_type": "code",
   "execution_count": 51,
   "id": "e98bf408",
   "metadata": {},
   "outputs": [],
   "source": [
    "# Długość tweetów reprezentowana jest przez ~rozkład normalny."
   ]
  },
  {
   "cell_type": "code",
   "execution_count": 52,
   "id": "cebb6b6f",
   "metadata": {},
   "outputs": [],
   "source": [
    "# Zerknijmy jak rozkłada się długość tweetów zgodnie z etykietami"
   ]
  },
  {
   "cell_type": "code",
   "execution_count": 1,
   "id": "73b6cd7c",
   "metadata": {},
   "outputs": [
    {
     "ename": "NameError",
     "evalue": "name 'df' is not defined",
     "output_type": "error",
     "traceback": [
      "\u001b[1;31m---------------------------------------------------------------------------\u001b[0m",
      "\u001b[1;31mNameError\u001b[0m                                 Traceback (most recent call last)",
      "Cell \u001b[1;32mIn[1], line 1\u001b[0m\n\u001b[1;32m----> 1\u001b[0m \u001b[38;5;28;01mfor\u001b[39;00m label \u001b[38;5;129;01min\u001b[39;00m \u001b[38;5;28mrange\u001b[39m(\u001b[38;5;28mlen\u001b[39m(\u001b[43mdf\u001b[49m[\u001b[38;5;124m'\u001b[39m\u001b[38;5;124mlabel\u001b[39m\u001b[38;5;124m'\u001b[39m]\u001b[38;5;241m.\u001b[39munique())):\n\u001b[0;32m      2\u001b[0m     plt\u001b[38;5;241m.\u001b[39mfigure(figsize\u001b[38;5;241m=\u001b[39m(\u001b[38;5;241m14\u001b[39m,\u001b[38;5;241m8\u001b[39m))\n\u001b[0;32m      3\u001b[0m     df[df[\u001b[38;5;124m'\u001b[39m\u001b[38;5;124mlabel\u001b[39m\u001b[38;5;124m'\u001b[39m]\u001b[38;5;241m==\u001b[39mlabel][\u001b[38;5;124m'\u001b[39m\u001b[38;5;124mlen\u001b[39m\u001b[38;5;124m'\u001b[39m]\u001b[38;5;241m.\u001b[39mplot\u001b[38;5;241m.\u001b[39mhist(bins\u001b[38;5;241m=\u001b[39m\u001b[38;5;241m30\u001b[39m)\n",
      "\u001b[1;31mNameError\u001b[0m: name 'df' is not defined"
     ]
    }
   ],
   "source": [
    "for label in range(len(df['label'].unique())):\n",
    "    plt.figure(figsize=(14,8))\n",
    "    df[df['label']==label]['len'].plot.hist(bins=30)\n",
    "    plt.ylabel('count')\n",
    "    plt.xlabel('length')\n",
    "    plt.title(f'Length histogram, label: {label}')"
   ]
  },
  {
   "cell_type": "code",
   "execution_count": 54,
   "id": "4f4631bd",
   "metadata": {},
   "outputs": [
    {
     "name": "stdout",
     "output_type": "stream",
     "text": [
      "0\n",
      "121.96036585365853\n",
      "1\n",
      "155.36631779257849\n",
      "2\n",
      "135.70229702069594\n",
      "3\n",
      "135.81658291457288\n",
      "4\n",
      "96.09429824561404\n",
      "5\n",
      "129.0113913751017\n",
      "6\n",
      "136.51641791044776\n",
      "7\n",
      "114.44260204081633\n",
      "8\n",
      "144.5151515151515\n",
      "9\n",
      "154.33069202324353\n",
      "10\n",
      "124.79268292682927\n",
      "11\n",
      "145.77586206896552\n",
      "12\n",
      "167.75907590759076\n",
      "13\n",
      "131.95400340715503\n",
      "14\n",
      "149.94099240053643\n",
      "15\n",
      "135.65814696485623\n",
      "16\n",
      "171.31199351701784\n",
      "17\n",
      "121.47281713344316\n",
      "18\n",
      "106.18102796674225\n",
      "19\n",
      "119.54117647058824\n"
     ]
    }
   ],
   "source": [
    "for label in range(len(df['label'].unique())):\n",
    "    print(label)\n",
    "    print(df[df['label']==label]['len'].mean())"
   ]
  },
  {
   "cell_type": "code",
   "execution_count": 55,
   "id": "a1b9e7d2",
   "metadata": {},
   "outputs": [],
   "source": [
    "# Najniższa średnia długośc tweeta odnotowana została dla etykiety 4 (Dividend). Najdłuższa - dla etykiety \n",
    "# 12 (Legal | Regulation). Histogram dla etykiety 10 (Gold | Metals | Materials) wygląda dość nietypowo. "
   ]
  },
  {
   "cell_type": "code",
   "execution_count": 56,
   "id": "5a459edc",
   "metadata": {},
   "outputs": [],
   "source": [
    "# Przetwarzanie tekstu - preprocessing"
   ]
  },
  {
   "cell_type": "code",
   "execution_count": 57,
   "id": "4e92ed5c",
   "metadata": {},
   "outputs": [],
   "source": [
    "# Zanim przejdziemy do budowy modeli dokonajmy usuwania znaków interpunkcyjnych oraz specjalnych (wliczając w to \n",
    "# URLe), wyczyśćmy tekst usuwając słowa przestankowe a na koniec dokonajmy lematyzacji (przywrócenia słów do ich podstawowej\n",
    "# formy)."
   ]
  },
  {
   "cell_type": "code",
   "execution_count": 58,
   "id": "97fb88a7",
   "metadata": {},
   "outputs": [],
   "source": [
    "def preprocessing(text_data):\n",
    "    # Małe litery\n",
    "    text_data = text_data.lower()\n",
    "    # https\n",
    "    text_data = re.sub(r'http\\S+', '', text_data)\n",
    "    # Rodzielamy na wyrazy\n",
    "    text_data = text_data.strip()\n",
    "    # Wyrażenia regularne do usunięcia znaków przestankowych\n",
    "    text_data=re.compile('<.*?>').sub('', text_data) \n",
    "    text_data = re.compile('[%s]' % re.escape(string.punctuation)).sub(' ', text_data)  \n",
    "    # Spacje\n",
    "    text_data = re.sub('\\s+', ' ', text_data) \n",
    "    # Cyfry\n",
    "    text_data = re.sub(r'\\[[0-9]*\\]',' ',text_data) \n",
    "    text_data=re.sub(r'[^\\w\\s]', '', str(text_data).lower().strip())\n",
    "    text_data = re.sub(r'\\d',' ',text_data) \n",
    "    text_data = re.sub(r'\\s+',' ',text_data) \n",
    "    return text_data\n",
    "\n",
    "# Słowa przestankowe w języku angielskim\n",
    "def stopword(string):\n",
    "    a= [i for i in string.split() if i not in stopwords.words('english')]\n",
    "    return ' '.join(a)"
   ]
  },
  {
   "cell_type": "code",
   "execution_count": 59,
   "id": "309c7a4b",
   "metadata": {},
   "outputs": [
    {
     "name": "stderr",
     "output_type": "stream",
     "text": [
      "[nltk_data] Downloading package punkt to\n",
      "[nltk_data]     C:\\Users\\Marcin\\AppData\\Roaming\\nltk_data...\n",
      "[nltk_data]   Package punkt is already up-to-date!\n",
      "[nltk_data] Downloading package averaged_perceptron_tagger to\n",
      "[nltk_data]     C:\\Users\\Marcin\\AppData\\Roaming\\nltk_data...\n",
      "[nltk_data]   Package averaged_perceptron_tagger is already up-to-\n",
      "[nltk_data]       date!\n",
      "[nltk_data] Downloading package wordnet to\n",
      "[nltk_data]     C:\\Users\\Marcin\\AppData\\Roaming\\nltk_data...\n",
      "[nltk_data]   Package wordnet is already up-to-date!\n"
     ]
    },
    {
     "data": {
      "text/plain": [
       "True"
      ]
     },
     "execution_count": 59,
     "metadata": {},
     "output_type": "execute_result"
    }
   ],
   "source": [
    "import re, string\n",
    "import nltk\n",
    "from nltk.tokenize import word_tokenize\n",
    "from nltk.corpus import stopwords\n",
    "from nltk.tokenize import word_tokenize\n",
    "from nltk.stem import SnowballStemmer\n",
    "from nltk.corpus import wordnet\n",
    "from nltk.stem import WordNetLemmatizer\n",
    "nltk.download('punkt')\n",
    "nltk.download('averaged_perceptron_tagger')\n",
    "nltk.download('wordnet')"
   ]
  },
  {
   "cell_type": "code",
   "execution_count": 60,
   "id": "2e86bab4",
   "metadata": {},
   "outputs": [],
   "source": [
    "# Lematyzacja\n",
    "lemmatizer = WordNetLemmatizer()"
   ]
  },
  {
   "cell_type": "code",
   "execution_count": 61,
   "id": "5fe55a2f",
   "metadata": {},
   "outputs": [],
   "source": [
    "# Funkcja pomocnicza - mapowanie tagów NLTK\n",
    "def get_wordnet_pos(tag):\n",
    "    if tag.startswith('J'):\n",
    "        return wordnet.ADJ\n",
    "    elif tag.startswith('V'):\n",
    "        return wordnet.VERB\n",
    "    elif tag.startswith('N'):\n",
    "        return wordnet.NOUN\n",
    "    elif tag.startswith('R'):\n",
    "        return wordnet.ADV\n",
    "    else:\n",
    "        return wordnet.NOUN"
   ]
  },
  {
   "cell_type": "code",
   "execution_count": 62,
   "id": "88dc10ed",
   "metadata": {},
   "outputs": [],
   "source": [
    "# Lematyzacja\n",
    "def lemmatize(string):\n",
    "    # Pobieramy tagi\n",
    "    word_pos_tags = nltk.pos_tag(word_tokenize(string)) \n",
    "    # Lematyzacja\n",
    "    a=[lemmatizer.lemmatize(tag[0], get_wordnet_pos(tag[1])) for idx, tag in enumerate(word_pos_tags)] \n",
    "    return \" \".join(a)"
   ]
  },
  {
   "cell_type": "code",
   "execution_count": 63,
   "id": "a6136fb7",
   "metadata": {},
   "outputs": [],
   "source": [
    "def full_processing(string):\n",
    "    return lemmatize(stopword(preprocessing(string)))"
   ]
  },
  {
   "cell_type": "code",
   "execution_count": 64,
   "id": "569bd831",
   "metadata": {},
   "outputs": [
    {
     "name": "stderr",
     "output_type": "stream",
     "text": [
      "[nltk_data] Downloading package omw-1.4 to\n",
      "[nltk_data]     C:\\Users\\Marcin\\AppData\\Roaming\\nltk_data...\n",
      "[nltk_data]   Package omw-1.4 is already up-to-date!\n"
     ]
    },
    {
     "data": {
      "text/plain": [
       "True"
      ]
     },
     "execution_count": 64,
     "metadata": {},
     "output_type": "execute_result"
    }
   ],
   "source": [
    "import nltk\n",
    "nltk.download('omw-1.4')  "
   ]
  },
  {
   "cell_type": "code",
   "execution_count": 65,
   "id": "aea723e5",
   "metadata": {},
   "outputs": [
    {
     "name": "stderr",
     "output_type": "stream",
     "text": [
      "C:\\Users\\Marcin\\Anaconda3\\lib\\site-packages\\ipykernel_launcher.py:1: SettingWithCopyWarning: \n",
      "A value is trying to be set on a copy of a slice from a DataFrame.\n",
      "Try using .loc[row_indexer,col_indexer] = value instead\n",
      "\n",
      "See the caveats in the documentation: https://pandas.pydata.org/pandas-docs/stable/user_guide/indexing.html#returning-a-view-versus-a-copy\n",
      "  \"\"\"Entry point for launching an IPython kernel.\n"
     ]
    }
   ],
   "source": [
    "df_no_outliers['clear_text'] = df_no_outliers['text'].apply(lambda a: full_processing(a))"
   ]
  },
  {
   "cell_type": "code",
   "execution_count": 66,
   "id": "a0e39f38",
   "metadata": {},
   "outputs": [
    {
     "data": {
      "text/html": [
       "<div>\n",
       "<style scoped>\n",
       "    .dataframe tbody tr th:only-of-type {\n",
       "        vertical-align: middle;\n",
       "    }\n",
       "\n",
       "    .dataframe tbody tr th {\n",
       "        vertical-align: top;\n",
       "    }\n",
       "\n",
       "    .dataframe thead th {\n",
       "        text-align: right;\n",
       "    }\n",
       "</style>\n",
       "<table border=\"1\" class=\"dataframe\">\n",
       "  <thead>\n",
       "    <tr style=\"text-align: right;\">\n",
       "      <th></th>\n",
       "      <th>text</th>\n",
       "      <th>label</th>\n",
       "      <th>size</th>\n",
       "      <th>zscore</th>\n",
       "      <th>clear_text</th>\n",
       "    </tr>\n",
       "  </thead>\n",
       "  <tbody>\n",
       "    <tr>\n",
       "      <th>0</th>\n",
       "      <td>Here are Thursday's biggest analyst calls: Apple, Amazon, Tesla, Palantir, DocuSign, Exxon &amp;amp; more  https://t.co/QPN8Gwl7Uh</td>\n",
       "      <td>0</td>\n",
       "      <td>15</td>\n",
       "      <td>-0.381980</td>\n",
       "      <td>thursday big analyst call apple amazon tesla palantir docusign exxon amp</td>\n",
       "    </tr>\n",
       "    <tr>\n",
       "      <th>1</th>\n",
       "      <td>Buy Las Vegas Sands as travel to Singapore builds, Wells Fargo says  https://t.co/fLS2w57iCz</td>\n",
       "      <td>0</td>\n",
       "      <td>13</td>\n",
       "      <td>-0.611772</td>\n",
       "      <td>buy la vegas sand travel singapore build well fargo say</td>\n",
       "    </tr>\n",
       "    <tr>\n",
       "      <th>2</th>\n",
       "      <td>Piper Sandler downgrades DocuSign to sell, citing elevated risks amid CEO transition  https://t.co/1EmtywmYpr</td>\n",
       "      <td>0</td>\n",
       "      <td>13</td>\n",
       "      <td>-0.611772</td>\n",
       "      <td>piper sandler downgrade docusign sell cite elevated risk amid ceo transition</td>\n",
       "    </tr>\n",
       "    <tr>\n",
       "      <th>3</th>\n",
       "      <td>Analysts react to Tesla's latest earnings, break down what's next for electric car maker  https://t.co/kwhoE6W06u</td>\n",
       "      <td>0</td>\n",
       "      <td>15</td>\n",
       "      <td>-0.381980</td>\n",
       "      <td>analyst react tesla late earnings break next electric car maker</td>\n",
       "    </tr>\n",
       "    <tr>\n",
       "      <th>4</th>\n",
       "      <td>Netflix and its peers are set for a ‘return to growth,’ analysts say, giving one stock 120% upside  https://t.co/jPpdl0D9s4</td>\n",
       "      <td>0</td>\n",
       "      <td>19</td>\n",
       "      <td>0.077602</td>\n",
       "      <td>netflix peer set return growth analyst say give one stock upside</td>\n",
       "    </tr>\n",
       "    <tr>\n",
       "      <th>...</th>\n",
       "      <td>...</td>\n",
       "      <td>...</td>\n",
       "      <td>...</td>\n",
       "      <td>...</td>\n",
       "      <td>...</td>\n",
       "    </tr>\n",
       "    <tr>\n",
       "      <th>21102</th>\n",
       "      <td>Dollar bonds of Chinese developers fall as stress spreads from junk-rated names to investment-grade peers amid renewed concerns about more Covid lockdowns  https://t.co/uhSv4iiR6C</td>\n",
       "      <td>3</td>\n",
       "      <td>23</td>\n",
       "      <td>0.537185</td>\n",
       "      <td>dollar bond chinese developer fall stress spread junk rat names investment grade peer amid renew concern covid lockdown</td>\n",
       "    </tr>\n",
       "    <tr>\n",
       "      <th>21103</th>\n",
       "      <td>Longer maturity Treasury yields have scope to go higher still and the market is erring in pricing in Fed interest-rate cuts in the latter part of 2023, according to Franklin Templeton  https://t.co/KkTCLG66m2</td>\n",
       "      <td>3</td>\n",
       "      <td>32</td>\n",
       "      <td>1.571246</td>\n",
       "      <td>long maturity treasury yield scope go high still market err price feed interest rate cut latter part accord franklin templeton</td>\n",
       "    </tr>\n",
       "    <tr>\n",
       "      <th>21104</th>\n",
       "      <td>Pimco buys €1bn of Apollo buyout loans from banks  https://t.co/nbgVPY34JA</td>\n",
       "      <td>3</td>\n",
       "      <td>10</td>\n",
       "      <td>-0.956458</td>\n",
       "      <td>pimco buy bn apollo buyout loan bank</td>\n",
       "    </tr>\n",
       "    <tr>\n",
       "      <th>21105</th>\n",
       "      <td>Analysis: Banks' snubbing of junk-rated loan funds worsens financing logjam  https://t.co/Jl0EuExhB1  https://t.co/M8MuEzCPO1</td>\n",
       "      <td>3</td>\n",
       "      <td>12</td>\n",
       "      <td>-0.726667</td>\n",
       "      <td>analysis bank snub junk rat loan fund worsen financing logjam</td>\n",
       "    </tr>\n",
       "    <tr>\n",
       "      <th>21106</th>\n",
       "      <td>U.S. Treasury seeks information on digital asset risks  https://t.co/1qmdZ0O1n1  https://t.co/Zhn49a7nsy</td>\n",
       "      <td>3</td>\n",
       "      <td>10</td>\n",
       "      <td>-0.956458</td>\n",
       "      <td>u treasury seek information digital asset risk</td>\n",
       "    </tr>\n",
       "  </tbody>\n",
       "</table>\n",
       "<p>20918 rows × 5 columns</p>\n",
       "</div>"
      ],
      "text/plain": [
       "                                                                                                                                                                                                                   text  \\\n",
       "0                                                                                        Here are Thursday's biggest analyst calls: Apple, Amazon, Tesla, Palantir, DocuSign, Exxon &amp; more  https://t.co/QPN8Gwl7Uh   \n",
       "1                                                                                                                          Buy Las Vegas Sands as travel to Singapore builds, Wells Fargo says  https://t.co/fLS2w57iCz   \n",
       "2                                                                                                         Piper Sandler downgrades DocuSign to sell, citing elevated risks amid CEO transition  https://t.co/1EmtywmYpr   \n",
       "3                                                                                                     Analysts react to Tesla's latest earnings, break down what's next for electric car maker  https://t.co/kwhoE6W06u   \n",
       "4                                                                                           Netflix and its peers are set for a ‘return to growth,’ analysts say, giving one stock 120% upside  https://t.co/jPpdl0D9s4   \n",
       "...                                                                                                                                                                                                                 ...   \n",
       "21102                               Dollar bonds of Chinese developers fall as stress spreads from junk-rated names to investment-grade peers amid renewed concerns about more Covid lockdowns  https://t.co/uhSv4iiR6C   \n",
       "21103  Longer maturity Treasury yields have scope to go higher still and the market is erring in pricing in Fed interest-rate cuts in the latter part of 2023, according to Franklin Templeton  https://t.co/KkTCLG66m2   \n",
       "21104                                                                                                                                        Pimco buys €1bn of Apollo buyout loans from banks  https://t.co/nbgVPY34JA   \n",
       "21105                                                                                     Analysis: Banks' snubbing of junk-rated loan funds worsens financing logjam  https://t.co/Jl0EuExhB1  https://t.co/M8MuEzCPO1   \n",
       "21106                                                                                                          U.S. Treasury seeks information on digital asset risks  https://t.co/1qmdZ0O1n1  https://t.co/Zhn49a7nsy   \n",
       "\n",
       "       label  size    zscore  \\\n",
       "0          0    15 -0.381980   \n",
       "1          0    13 -0.611772   \n",
       "2          0    13 -0.611772   \n",
       "3          0    15 -0.381980   \n",
       "4          0    19  0.077602   \n",
       "...      ...   ...       ...   \n",
       "21102      3    23  0.537185   \n",
       "21103      3    32  1.571246   \n",
       "21104      3    10 -0.956458   \n",
       "21105      3    12 -0.726667   \n",
       "21106      3    10 -0.956458   \n",
       "\n",
       "                                                                                                                           clear_text  \n",
       "0                                                            thursday big analyst call apple amazon tesla palantir docusign exxon amp  \n",
       "1                                                                             buy la vegas sand travel singapore build well fargo say  \n",
       "2                                                        piper sandler downgrade docusign sell cite elevated risk amid ceo transition  \n",
       "3                                                                     analyst react tesla late earnings break next electric car maker  \n",
       "4                                                                    netflix peer set return growth analyst say give one stock upside  \n",
       "...                                                                                                                               ...  \n",
       "21102         dollar bond chinese developer fall stress spread junk rat names investment grade peer amid renew concern covid lockdown  \n",
       "21103  long maturity treasury yield scope go high still market err price feed interest rate cut latter part accord franklin templeton  \n",
       "21104                                                                                            pimco buy bn apollo buyout loan bank  \n",
       "21105                                                                   analysis bank snub junk rat loan fund worsen financing logjam  \n",
       "21106                                                                                  u treasury seek information digital asset risk  \n",
       "\n",
       "[20918 rows x 5 columns]"
      ]
     },
     "execution_count": 66,
     "metadata": {},
     "output_type": "execute_result"
    }
   ],
   "source": [
    "df_no_outliers"
   ]
  },
  {
   "cell_type": "code",
   "execution_count": 67,
   "id": "bf758e8a",
   "metadata": {},
   "outputs": [],
   "source": [
    "# Wektoryzacja - konwersja tekstu po lematyzacji na dane numeryczne"
   ]
  },
  {
   "cell_type": "code",
   "execution_count": 68,
   "id": "b378d031",
   "metadata": {},
   "outputs": [],
   "source": [
    "from sklearn.feature_extraction.text import TfidfVectorizer\n",
    "from sklearn.feature_extraction.text import CountVectorizer\n",
    "from sklearn.model_selection import train_test_split"
   ]
  },
  {
   "cell_type": "code",
   "execution_count": 69,
   "id": "18dfc78b",
   "metadata": {},
   "outputs": [],
   "source": [
    "# Dzielimy dane na traningowe i testowe"
   ]
  },
  {
   "cell_type": "code",
   "execution_count": 70,
   "id": "465127a0",
   "metadata": {},
   "outputs": [],
   "source": [
    "X_train, X_test, y_train, y_test = train_test_split(df_no_outliers['clear_text'] , df_no_outliers[\"label\"],test_size=0.2,shuffle=True)"
   ]
  },
  {
   "cell_type": "code",
   "execution_count": 71,
   "id": "6f6b4fc0",
   "metadata": {},
   "outputs": [],
   "source": [
    "#Tf-Idf\n",
    "tfidf_vectorizer = TfidfVectorizer(use_idf=True)\n",
    "\n",
    "X_train_vectors_tfidf = tfidf_vectorizer.fit_transform(X_train) \n",
    "X_test_vectors_tfidf = tfidf_vectorizer.transform(X_test)"
   ]
  },
  {
   "cell_type": "code",
   "execution_count": 113,
   "id": "3c66f1eb",
   "metadata": {},
   "outputs": [
    {
     "data": {
      "text/plain": [
       "(6808, 11216)"
      ]
     },
     "execution_count": 113,
     "metadata": {},
     "output_type": "execute_result"
    }
   ],
   "source": [
    "X_train_vectors_tfidf.shape"
   ]
  },
  {
   "cell_type": "code",
   "execution_count": 72,
   "id": "0edc63ec",
   "metadata": {},
   "outputs": [],
   "source": [
    "# Modelowanie"
   ]
  },
  {
   "cell_type": "code",
   "execution_count": 73,
   "id": "0948e52d",
   "metadata": {},
   "outputs": [],
   "source": [
    "from sklearn.ensemble import RandomForestClassifier\n",
    "from sklearn.metrics import classification_report, f1_score, accuracy_score, confusion_matrix"
   ]
  },
  {
   "cell_type": "code",
   "execution_count": 74,
   "id": "cbfedb9f",
   "metadata": {},
   "outputs": [
    {
     "data": {
      "text/plain": [
       "RandomForestClassifier(n_estimators=1000)"
      ]
     },
     "execution_count": 74,
     "metadata": {},
     "output_type": "execute_result"
    }
   ],
   "source": [
    "# Las losowy\n",
    "rnd_forest = RandomForestClassifier(n_estimators=1000)\n",
    "rnd_forest.fit(X_train_vectors_tfidf, y_train)  "
   ]
  },
  {
   "cell_type": "code",
   "execution_count": 75,
   "id": "a6cca2b9",
   "metadata": {},
   "outputs": [
    {
     "name": "stdout",
     "output_type": "stream",
     "text": [
      "              precision    recall  f1-score   support\n",
      "\n",
      "           0       0.79      0.45      0.57        58\n",
      "           1       0.85      0.85      0.85       213\n",
      "           2       0.79      0.84      0.82       907\n",
      "           3       0.88      0.64      0.74        70\n",
      "           4       0.95      0.96      0.95        98\n",
      "           5       0.84      0.96      0.90       227\n",
      "           6       0.88      0.88      0.88       122\n",
      "           7       0.89      0.81      0.85       156\n",
      "           8       0.90      0.77      0.83        47\n",
      "           9       0.66      0.72      0.69       386\n",
      "          10       1.00      0.52      0.68        25\n",
      "          11       0.90      0.60      0.72        15\n",
      "          12       0.94      0.76      0.84       117\n",
      "          13       0.88      0.59      0.71       106\n",
      "          14       0.78      0.82      0.80       448\n",
      "          15       0.88      0.65      0.75       132\n",
      "          16       0.90      0.87      0.88       238\n",
      "          17       0.84      0.74      0.79       107\n",
      "          18       0.72      0.82      0.76       530\n",
      "          19       0.74      0.61      0.67       182\n",
      "\n",
      "    accuracy                           0.80      4184\n",
      "   macro avg       0.85      0.74      0.78      4184\n",
      "weighted avg       0.80      0.80      0.80      4184\n",
      "\n"
     ]
    }
   ],
   "source": [
    "y_predict = rnd_forest.predict(X_test_vectors_tfidf)\n",
    "print(classification_report(y_test, y_predict))\n",
    "confussion_matrix_array = confusion_matrix(y_test, y_predict)"
   ]
  },
  {
   "cell_type": "code",
   "execution_count": 76,
   "id": "d6fdaba0",
   "metadata": {},
   "outputs": [
    {
     "data": {
      "text/plain": [
       "<AxesSubplot:>"
      ]
     },
     "execution_count": 76,
     "metadata": {},
     "output_type": "execute_result"
    },
    {
     "data": {
      "image/png": "[encoded data removed]",
      "text/plain": [
       "<Figure size 1152x1152 with 1 Axes>"
      ]
     },
     "metadata": {
      "needs_background": "light"
     },
     "output_type": "display_data"
    }
   ],
   "source": [
    "import seaborn as sns\n",
    "df_cm = pd.DataFrame(confussion_matrix_array, index = [i for i in range(20)],\n",
    "                  columns = [i for i in range(20)])\n",
    "plt.figure(figsize = (16, 16))\n",
    "sns.heatmap(df_cm, annot=True, cbar=False)"
   ]
  },
  {
   "cell_type": "code",
   "execution_count": 77,
   "id": "b9c508ce",
   "metadata": {},
   "outputs": [],
   "source": [
    "# Przypomnijmy sobie jakie klasy były najczęstsze"
   ]
  },
  {
   "cell_type": "code",
   "execution_count": 78,
   "id": "1bb7f7d8",
   "metadata": {},
   "outputs": [
    {
     "data": {
      "text/plain": [
       "Text(0.5, 1.0, 'Labels bar plot')"
      ]
     },
     "execution_count": 78,
     "metadata": {},
     "output_type": "execute_result"
    },
    {
     "data": {
      "image/png": "[encoded data removed]",
      "text/plain": [
       "<Figure size 1008x576 with 1 Axes>"
      ]
     },
     "metadata": {
      "needs_background": "light"
     },
     "output_type": "display_data"
    }
   ],
   "source": [
    "import matplotlib.pyplot as plt\n",
    "plt.figure(figsize=(14,8))\n",
    "df_no_outliers['label'].value_counts().plot(kind='bar')\n",
    "plt.ylabel('count')\n",
    "plt.xlabel('label')\n",
    "plt.title('Labels bar plot')"
   ]
  },
  {
   "cell_type": "code",
   "execution_count": 79,
   "id": "fcead1a2",
   "metadata": {},
   "outputs": [],
   "source": [
    "# Bardzo łatwo zauważyć zdecydowaną przewagę danych z klasy 2 - jej licznośc powoduje to, że niektóre próbki\n",
    "# klasyfikowane są błędnie jako własnie ta klasa (2). "
   ]
  },
  {
   "cell_type": "code",
   "execution_count": 80,
   "id": "fcce323b",
   "metadata": {},
   "outputs": [],
   "source": [
    "# Dokonajmy balansu klas:"
   ]
  },
  {
   "cell_type": "code",
   "execution_count": 81,
   "id": "11433459",
   "metadata": {},
   "outputs": [],
   "source": [
    "# Zredukumy liczbę danych z każdej klasy do maksymalnie 500"
   ]
  },
  {
   "cell_type": "code",
   "execution_count": 82,
   "id": "21d89d03",
   "metadata": {},
   "outputs": [],
   "source": [
    "def balance_dataset(df, max_count = 500):\n",
    "    df_balanced = pd.DataFrame()\n",
    "    labels = len(df['label'].unique())\n",
    "    for label in range(labels):\n",
    "        if len(df[df['label']==label]) >= max_count:\n",
    "            df_balanced = df_balanced.append((df[df['label']==label]).sample(max_count))\n",
    "        else:\n",
    "            df_balanced = df_balanced.append(df[df['label']==label])\n",
    "    \n",
    "    return df_balanced.sample(frac=1).reset_index(drop=True)"
   ]
  },
  {
   "cell_type": "code",
   "execution_count": 83,
   "id": "1526d626",
   "metadata": {},
   "outputs": [],
   "source": [
    "df_balanced = balance_dataset(df_no_outliers, 500)"
   ]
  },
  {
   "cell_type": "code",
   "execution_count": 84,
   "id": "e581eeb1",
   "metadata": {},
   "outputs": [
    {
     "data": {
      "text/plain": [
       "9     500\n",
       "19    500\n",
       "14    500\n",
       "13    500\n",
       "15    500\n",
       "1     500\n",
       "16    500\n",
       "6     500\n",
       "5     500\n",
       "17    500\n",
       "18    500\n",
       "7     500\n",
       "2     500\n",
       "12    500\n",
       "4     456\n",
       "3     396\n",
       "0     324\n",
       "8     195\n",
       "10     82\n",
       "11     58\n",
       "Name: label, dtype: int64"
      ]
     },
     "execution_count": 84,
     "metadata": {},
     "output_type": "execute_result"
    }
   ],
   "source": [
    "df_balanced['label'].value_counts()"
   ]
  },
  {
   "cell_type": "code",
   "execution_count": 85,
   "id": "b79f462c",
   "metadata": {},
   "outputs": [
    {
     "data": {
      "text/html": [
       "<div>\n",
       "<style scoped>\n",
       "    .dataframe tbody tr th:only-of-type {\n",
       "        vertical-align: middle;\n",
       "    }\n",
       "\n",
       "    .dataframe tbody tr th {\n",
       "        vertical-align: top;\n",
       "    }\n",
       "\n",
       "    .dataframe thead th {\n",
       "        text-align: right;\n",
       "    }\n",
       "</style>\n",
       "<table border=\"1\" class=\"dataframe\">\n",
       "  <thead>\n",
       "    <tr style=\"text-align: right;\">\n",
       "      <th></th>\n",
       "      <th>text</th>\n",
       "      <th>label</th>\n",
       "      <th>size</th>\n",
       "      <th>zscore</th>\n",
       "      <th>clear_text</th>\n",
       "    </tr>\n",
       "  </thead>\n",
       "  <tbody>\n",
       "    <tr>\n",
       "      <th>0</th>\n",
       "      <td>These are the worst airports in Europe for delays right now  https://t.co/ZEGSi9CBzx  https://t.co/QO9cPNxotR</td>\n",
       "      <td>9</td>\n",
       "      <td>13</td>\n",
       "      <td>-0.611772</td>\n",
       "      <td>bad airport europe delay right</td>\n",
       "    </tr>\n",
       "    <tr>\n",
       "      <th>1</th>\n",
       "      <td>Mining giant BHP Group has joined rival Rio Tinto Group in signaling more turbulence to come for commodities producers as costs balloon and demand for everything from iron ore to copper hits headwinds  https://t.co/2d5G6kbLyK</td>\n",
       "      <td>6</td>\n",
       "      <td>34</td>\n",
       "      <td>1.801037</td>\n",
       "      <td>mining giant bhp group join rival rio tinto group signal turbulence come commodity producer cost balloon demand everything iron ore copper hit headwind</td>\n",
       "    </tr>\n",
       "    <tr>\n",
       "      <th>2</th>\n",
       "      <td>Wall Street banks holding about $80 billion in debt financing for LBOs are pushing to get the loans off their books as deadlines for acquisitions near  https://t.co/NuXKoO7LTC</td>\n",
       "      <td>3</td>\n",
       "      <td>27</td>\n",
       "      <td>0.996767</td>\n",
       "      <td>wall street bank hold billion debt financing lbos push get loan book deadline acquisition near</td>\n",
       "    </tr>\n",
       "    <tr>\n",
       "      <th>3</th>\n",
       "      <td>“We were as surprised as you were… one of the most powerful companies in the world took our identity without notice,\" Meta, an installation-art company, said Tuesday in a trademark-infringement lawsuit against the former Facebook.  https://t.co/hUrdeIpr57</td>\n",
       "      <td>12</td>\n",
       "      <td>36</td>\n",
       "      <td>2.030828</td>\n",
       "      <td>surprised one powerful company world take identity without notice meta installation art company say tuesday trademark infringement lawsuit former facebook</td>\n",
       "    </tr>\n",
       "    <tr>\n",
       "      <th>4</th>\n",
       "      <td>The boss of UK digital bank Monzo said he’s targeting growth rather than immediate profit during a turbulent time for the fintech industry  https://t.co/86qeKd3DDZ</td>\n",
       "      <td>2</td>\n",
       "      <td>24</td>\n",
       "      <td>0.652081</td>\n",
       "      <td>bos uk digital bank monzo say he target growth rather immediate profit turbulent time fintech industry</td>\n",
       "    </tr>\n",
       "  </tbody>\n",
       "</table>\n",
       "</div>"
      ],
      "text/plain": [
       "                                                                                                                                                                                                                                                              text  \\\n",
       "0                                                                                                                                                    These are the worst airports in Europe for delays right now  https://t.co/ZEGSi9CBzx  https://t.co/QO9cPNxotR   \n",
       "1                                Mining giant BHP Group has joined rival Rio Tinto Group in signaling more turbulence to come for commodities producers as costs balloon and demand for everything from iron ore to copper hits headwinds  https://t.co/2d5G6kbLyK   \n",
       "2                                                                                  Wall Street banks holding about $80 billion in debt financing for LBOs are pushing to get the loans off their books as deadlines for acquisitions near  https://t.co/NuXKoO7LTC   \n",
       "3  “We were as surprised as you were… one of the most powerful companies in the world took our identity without notice,\" Meta, an installation-art company, said Tuesday in a trademark-infringement lawsuit against the former Facebook.  https://t.co/hUrdeIpr57   \n",
       "4                                                                                              The boss of UK digital bank Monzo said he’s targeting growth rather than immediate profit during a turbulent time for the fintech industry  https://t.co/86qeKd3DDZ   \n",
       "\n",
       "   label  size    zscore  \\\n",
       "0      9    13 -0.611772   \n",
       "1      6    34  1.801037   \n",
       "2      3    27  0.996767   \n",
       "3     12    36  2.030828   \n",
       "4      2    24  0.652081   \n",
       "\n",
       "                                                                                                                                                   clear_text  \n",
       "0                                                                                                                              bad airport europe delay right  \n",
       "1     mining giant bhp group join rival rio tinto group signal turbulence come commodity producer cost balloon demand everything iron ore copper hit headwind  \n",
       "2                                                              wall street bank hold billion debt financing lbos push get loan book deadline acquisition near  \n",
       "3  surprised one powerful company world take identity without notice meta installation art company say tuesday trademark infringement lawsuit former facebook  \n",
       "4                                                      bos uk digital bank monzo say he target growth rather immediate profit turbulent time fintech industry  "
      ]
     },
     "execution_count": 85,
     "metadata": {},
     "output_type": "execute_result"
    }
   ],
   "source": [
    "df_balanced.head()"
   ]
  },
  {
   "cell_type": "code",
   "execution_count": 86,
   "id": "cf825386",
   "metadata": {
    "scrolled": false
   },
   "outputs": [
    {
     "data": {
      "text/plain": [
       "Text(0.5, 1.0, 'Balanced labels bar plot')"
      ]
     },
     "execution_count": 86,
     "metadata": {},
     "output_type": "execute_result"
    },
    {
     "data": {
      "image/png": "[encoded data removed]",
      "text/plain": [
       "<Figure size 1008x576 with 1 Axes>"
      ]
     },
     "metadata": {
      "needs_background": "light"
     },
     "output_type": "display_data"
    }
   ],
   "source": [
    "import matplotlib.pyplot as plt\n",
    "plt.figure(figsize=(14,8))\n",
    "df_balanced['label'].value_counts().plot(kind='bar')\n",
    "plt.ylabel('count')\n",
    "plt.xlabel('label')\n",
    "plt.title('Balanced labels bar plot')"
   ]
  },
  {
   "cell_type": "code",
   "execution_count": 87,
   "id": "d2fcd135",
   "metadata": {},
   "outputs": [],
   "source": [
    "# Dane są zbalansowane, jednak klasy 8, 9, 10 znacząco odstają. Możemy je usunąć, dogenerować dane lub pozostawić tak\n",
    "# jak jest - dysproporcja między klasami znacząco się zmniejszyła i z tego powodu zdecydowano, aby nie dokonywać \n",
    "# dalszych modyfikacji."
   ]
  },
  {
   "cell_type": "code",
   "execution_count": 88,
   "id": "54b23922",
   "metadata": {},
   "outputs": [],
   "source": [
    "# Analogiczne procesy dla zbalansowanych danych"
   ]
  },
  {
   "cell_type": "code",
   "execution_count": 89,
   "id": "5264b82c",
   "metadata": {},
   "outputs": [],
   "source": [
    "X_train, X_test, y_train, y_test = train_test_split(df_balanced['clear_text'] , df_balanced[\"label\"],test_size=0.2,shuffle=True)"
   ]
  },
  {
   "cell_type": "code",
   "execution_count": 90,
   "id": "c643e285",
   "metadata": {},
   "outputs": [],
   "source": [
    "#Tf-Idf\n",
    "tfidf_vectorizer = TfidfVectorizer(use_idf=True)\n",
    "\n",
    "X_train_vectors_tfidf = tfidf_vectorizer.fit_transform(X_train) \n",
    "X_test_vectors_tfidf = tfidf_vectorizer.transform(X_test)"
   ]
  },
  {
   "cell_type": "code",
   "execution_count": 91,
   "id": "f533174f",
   "metadata": {},
   "outputs": [
    {
     "data": {
      "text/plain": [
       "(6808, 11216)"
      ]
     },
     "execution_count": 91,
     "metadata": {},
     "output_type": "execute_result"
    }
   ],
   "source": [
    "X_train_vectors_tfidf.shape"
   ]
  },
  {
   "cell_type": "code",
   "execution_count": 92,
   "id": "e46cc6a7",
   "metadata": {},
   "outputs": [
    {
     "data": {
      "text/plain": [
       "(1703, 11216)"
      ]
     },
     "execution_count": 92,
     "metadata": {},
     "output_type": "execute_result"
    }
   ],
   "source": [
    "X_test_vectors_tfidf.shape"
   ]
  },
  {
   "cell_type": "code",
   "execution_count": 93,
   "id": "5dfa2f4e",
   "metadata": {},
   "outputs": [
    {
     "name": "stdout",
     "output_type": "stream",
     "text": [
      "<class 'pandas.core.frame.DataFrame'>\n",
      "RangeIndex: 8511 entries, 0 to 8510\n",
      "Data columns (total 5 columns):\n",
      " #   Column      Non-Null Count  Dtype  \n",
      "---  ------      --------------  -----  \n",
      " 0   text        8511 non-null   object \n",
      " 1   label       8511 non-null   int64  \n",
      " 2   size        8511 non-null   int64  \n",
      " 3   zscore      8511 non-null   float64\n",
      " 4   clear_text  8511 non-null   object \n",
      "dtypes: float64(1), int64(2), object(2)\n",
      "memory usage: 332.6+ KB\n"
     ]
    }
   ],
   "source": [
    "df_balanced.info()"
   ]
  },
  {
   "cell_type": "code",
   "execution_count": 94,
   "id": "d4532af7",
   "metadata": {},
   "outputs": [
    {
     "data": {
      "text/plain": [
       "RandomForestClassifier()"
      ]
     },
     "execution_count": 94,
     "metadata": {},
     "output_type": "execute_result"
    }
   ],
   "source": [
    "# Las losowy\n",
    "rnd_forest = RandomForestClassifier(n_estimators=100)\n",
    "rnd_forest.fit(X_train_vectors_tfidf, y_train)  "
   ]
  },
  {
   "cell_type": "code",
   "execution_count": 95,
   "id": "e8499b22",
   "metadata": {},
   "outputs": [
    {
     "name": "stdout",
     "output_type": "stream",
     "text": [
      "              precision    recall  f1-score   support\n",
      "\n",
      "           0       0.69      0.73      0.71        55\n",
      "           1       0.78      0.76      0.77       103\n",
      "           2       0.53      0.42      0.47        91\n",
      "           3       0.91      0.83      0.87        84\n",
      "           4       0.94      0.99      0.96        90\n",
      "           5       0.86      0.96      0.91       100\n",
      "           6       0.82      0.78      0.80        98\n",
      "           7       0.83      0.84      0.84       113\n",
      "           8       0.79      0.79      0.79        39\n",
      "           9       0.60      0.41      0.49       100\n",
      "          10       0.80      0.80      0.80        15\n",
      "          11       1.00      0.90      0.95        10\n",
      "          12       0.89      0.81      0.85       118\n",
      "          13       0.78      0.74      0.76       100\n",
      "          14       0.70      0.49      0.58        95\n",
      "          15       0.76      0.77      0.77       100\n",
      "          16       0.82      0.88      0.85       103\n",
      "          17       0.74      0.86      0.79        92\n",
      "          18       0.44      0.86      0.58        92\n",
      "          19       0.73      0.58      0.65       105\n",
      "\n",
      "    accuracy                           0.75      1703\n",
      "   macro avg       0.77      0.76      0.76      1703\n",
      "weighted avg       0.76      0.75      0.75      1703\n",
      "\n"
     ]
    }
   ],
   "source": [
    "y_predict = rnd_forest.predict(X_test_vectors_tfidf)\n",
    "print(classification_report(y_test, y_predict))\n",
    "confussion_matrix_array = confusion_matrix(y_test, y_predict)"
   ]
  },
  {
   "cell_type": "code",
   "execution_count": 96,
   "id": "c2bfcb41",
   "metadata": {},
   "outputs": [
    {
     "data": {
      "text/plain": [
       "<AxesSubplot:>"
      ]
     },
     "execution_count": 96,
     "metadata": {},
     "output_type": "execute_result"
    },
    {
     "data": {
      "image/png": "[encoded data removed]",
      "text/plain": [
       "<Figure size 1152x1152 with 1 Axes>"
      ]
     },
     "metadata": {
      "needs_background": "light"
     },
     "output_type": "display_data"
    }
   ],
   "source": [
    "df_cm = pd.DataFrame(confussion_matrix_array, index = [i for i in range(20)],\n",
    "                  columns = [i for i in range(20)])\n",
    "plt.figure(figsize = (16, 16))\n",
    "sns.heatmap(df_cm, annot=True, cbar=False)"
   ]
  },
  {
   "cell_type": "code",
   "execution_count": 97,
   "id": "02de2121",
   "metadata": {},
   "outputs": [],
   "source": [
    "# Bardzo dużo danych zostało błędnie sklasyfikowanych jako klasa 18 Stock Commentary. \n",
    "# Ma to jak najbardziej sens, ponieważ klasa te jest bardzo szeroka dziedziwnowo. "
   ]
  },
  {
   "cell_type": "code",
   "execution_count": 98,
   "id": "c81e97c3",
   "metadata": {},
   "outputs": [],
   "source": [
    "# Nasze dane zawierają ponad 11 tysięcy kolumn. Spróbujmy wykorzystać SVD, aby zmniejszyć ich liczbę."
   ]
  },
  {
   "cell_type": "code",
   "execution_count": 99,
   "id": "2cf0d42a",
   "metadata": {},
   "outputs": [],
   "source": [
    "from sklearn.decomposition import TruncatedSVD"
   ]
  },
  {
   "cell_type": "code",
   "execution_count": 100,
   "id": "6ecc1cf2",
   "metadata": {},
   "outputs": [],
   "source": [
    "svd = TruncatedSVD()\n",
    "x_train_svd = svd.fit_transform(X_train_vectors_tfidf)\n",
    "x_test_svd = svd.transform(X_test_vectors_tfidf)"
   ]
  },
  {
   "cell_type": "code",
   "execution_count": 101,
   "id": "599bd9d1",
   "metadata": {},
   "outputs": [
    {
     "data": {
      "text/plain": [
       "(6808, 2)"
      ]
     },
     "execution_count": 101,
     "metadata": {},
     "output_type": "execute_result"
    }
   ],
   "source": [
    "x_train_svd.shape"
   ]
  },
  {
   "cell_type": "code",
   "execution_count": 102,
   "id": "79bbdce7",
   "metadata": {},
   "outputs": [],
   "source": [
    "# Zobaczmy wariancję wyjaśnioną przez dwa komponenty"
   ]
  },
  {
   "cell_type": "code",
   "execution_count": 103,
   "id": "2af3d66d",
   "metadata": {},
   "outputs": [
    {
     "name": "stdout",
     "output_type": "stream",
     "text": [
      "0.010354816374123044\n"
     ]
    }
   ],
   "source": [
    "print(svd.explained_variance_ratio_.sum())"
   ]
  },
  {
   "cell_type": "code",
   "execution_count": 104,
   "id": "cd5a880c",
   "metadata": {},
   "outputs": [],
   "source": [
    "# Jest bardzo niewielka - około 1%. Zwiększamy liczbę komponentów"
   ]
  },
  {
   "cell_type": "code",
   "execution_count": 105,
   "id": "73e2e3b9",
   "metadata": {},
   "outputs": [],
   "source": [
    "svd = TruncatedSVD(n_components=3000)\n",
    "x_train_svd = svd.fit_transform(X_train_vectors_tfidf)\n",
    "x_test_svd = svd.transform(X_test_vectors_tfidf)"
   ]
  },
  {
   "cell_type": "code",
   "execution_count": 106,
   "id": "ed4189d3",
   "metadata": {},
   "outputs": [
    {
     "data": {
      "text/plain": [
       "(6808, 3000)"
      ]
     },
     "execution_count": 106,
     "metadata": {},
     "output_type": "execute_result"
    }
   ],
   "source": [
    "x_train_svd.shape"
   ]
  },
  {
   "cell_type": "code",
   "execution_count": 107,
   "id": "01d3539b",
   "metadata": {},
   "outputs": [
    {
     "name": "stdout",
     "output_type": "stream",
     "text": [
      "0.8998662734338658\n"
     ]
    }
   ],
   "source": [
    "print(svd.explained_variance_ratio_.sum())"
   ]
  },
  {
   "cell_type": "code",
   "execution_count": 108,
   "id": "83c79b01",
   "metadata": {},
   "outputs": [],
   "source": [
    "# Redukcja do 3000 kolumn pozwala na osiągnięcie wariancji wyjaśnionej na poziomie 90%."
   ]
  },
  {
   "cell_type": "code",
   "execution_count": 109,
   "id": "6f467ff3",
   "metadata": {},
   "outputs": [
    {
     "data": {
      "text/plain": [
       "RandomForestClassifier()"
      ]
     },
     "execution_count": 109,
     "metadata": {},
     "output_type": "execute_result"
    }
   ],
   "source": [
    "# Las losowy\n",
    "rnd_forest_svd = RandomForestClassifier(n_estimators=100)\n",
    "rnd_forest_svd.fit(x_train_svd, y_train)  "
   ]
  },
  {
   "cell_type": "code",
   "execution_count": 110,
   "id": "35a66072",
   "metadata": {},
   "outputs": [
    {
     "name": "stdout",
     "output_type": "stream",
     "text": [
      "              precision    recall  f1-score   support\n",
      "\n",
      "           0       0.67      0.51      0.58        55\n",
      "           1       0.68      0.70      0.69       103\n",
      "           2       0.27      0.40      0.32        91\n",
      "           3       0.91      0.58      0.71        84\n",
      "           4       0.93      0.98      0.95        90\n",
      "           5       0.74      0.92      0.82       100\n",
      "           6       0.70      0.76      0.73        98\n",
      "           7       0.76      0.78      0.77       113\n",
      "           8       0.78      0.46      0.58        39\n",
      "           9       0.43      0.35      0.38       100\n",
      "          10       0.88      0.47      0.61        15\n",
      "          11       1.00      0.10      0.18        10\n",
      "          12       0.86      0.71      0.78       118\n",
      "          13       0.62      0.71      0.66       100\n",
      "          14       0.53      0.43      0.47        95\n",
      "          15       0.65      0.84      0.73       100\n",
      "          16       0.73      0.83      0.78       103\n",
      "          17       0.72      0.74      0.73        92\n",
      "          18       0.49      0.57      0.53        92\n",
      "          19       0.62      0.43      0.51       105\n",
      "\n",
      "    accuracy                           0.66      1703\n",
      "   macro avg       0.70      0.61      0.63      1703\n",
      "weighted avg       0.67      0.66      0.65      1703\n",
      "\n"
     ]
    }
   ],
   "source": [
    "y_predict = rnd_forest_svd.predict(x_test_svd)\n",
    "print(classification_report(y_test, y_predict))\n",
    "confussion_matrix_array = confusion_matrix(y_test, y_predict)"
   ]
  },
  {
   "cell_type": "code",
   "execution_count": 111,
   "id": "bf909eac",
   "metadata": {
    "scrolled": false
   },
   "outputs": [
    {
     "data": {
      "text/plain": [
       "<AxesSubplot:>"
      ]
     },
     "execution_count": 111,
     "metadata": {},
     "output_type": "execute_result"
    },
    {
     "data": {
      "image/png": "[encoded data removed]",
      "text/plain": [
       "<Figure size 1152x1152 with 1 Axes>"
      ]
     },
     "metadata": {
      "needs_background": "light"
     },
     "output_type": "display_data"
    }
   ],
   "source": [
    "df_cm = pd.DataFrame(confussion_matrix_array, index = [i for i in range(20)],\n",
    "                  columns = [i for i in range(20)])\n",
    "plt.figure(figsize = (16, 16))\n",
    "sns.heatmap(df_cm, annot=True, cbar=False)"
   ]
  },
  {
   "cell_type": "code",
   "execution_count": 112,
   "id": "5b4faef0",
   "metadata": {},
   "outputs": [],
   "source": [
    "# Redukcja wymiarów pozwoliła na zmniejszenie złożoności modelu, jednak accuracy spadło. Zwiększenie liczby komponentów\n",
    "# pozwoliłoby na zwiększanie accuracy. SVD pozwala nam na redukcję wymiarowości danych przy zachowaniu informacji, które\n",
    "# okreslone dane zawierają."
   ]
  }
 ],
 "metadata": {
  "kernelspec": {
   "display_name": "Python 3 (ipykernel)",
   "language": "python",
   "name": "python3"
  },
  "language_info": {
   "codemirror_mode": {
    "name": "ipython",
    "version": 3
   },
   "file_extension": ".py",
   "mimetype": "text/x-python",
   "name": "python",
   "nbconvert_exporter": "python",
   "pygments_lexer": "ipython3",
   "version": "3.10.9"
  }
 },
 "nbformat": 4,
 "nbformat_minor": 5
}
